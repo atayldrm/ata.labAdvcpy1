{
 "cells": [
  {
   "cell_type": "code",
   "execution_count": 1,
   "id": "3aff7f51",
   "metadata": {},
   "outputs": [],
   "source": [
    "import plotly.express as px\n",
    "import pandas as pd\n",
    "import numpy as np"
   ]
  },
  {
   "cell_type": "code",
   "execution_count": 2,
   "id": "316a6656",
   "metadata": {},
   "outputs": [],
   "source": [
    "energy=pd.read_excel('C:\\\\Users\\\\aatay\\\\OneDrive\\\\Documents\\\\jupyter\\\\Lab1Py\\\\En_In1.xlsx')\n",
    "energy=energy.drop(energy.columns[[0,1]],axis=1)\n",
    "\n",
    "energy_units=energy.iloc[0]\n",
    "\n",
    "energy=energy.rename(columns={'Unnamed: 2':'Country','Renewable Electricity Production':'% Renewable',\n",
    "                             'Energy Supply per capita':'Energy Supply per Capita'}).drop(energy.index[0])\n"
   ]
  },
  {
   "cell_type": "code",
   "execution_count": 3,
   "id": "61a4720c",
   "metadata": {},
   "outputs": [],
   "source": [
    "energy = energy.replace('...',np.nan)"
   ]
  },
  {
   "cell_type": "code",
   "execution_count": 4,
   "id": "7c68c5b1",
   "metadata": {},
   "outputs": [],
   "source": [
    "def petajoules_to_gigajoules(petas):\n",
    "    \n",
    "    gigas_in_peta = 1000000\n",
    "    try:\n",
    "        return abs(float(petas) * gigas_in_peta)\n",
    "    except:\n",
    "        x = \"\".join(re.findall(\"\\d+\\.?\\d+\", petas))\n",
    "        if x == \"\":\n",
    "            return np.nan\n",
    "        return abs(float(petas) * gigas_in_peta)"
   ]
  },
  {
   "cell_type": "code",
   "execution_count": 5,
   "id": "8736ab1b",
   "metadata": {},
   "outputs": [],
   "source": [
    "energy['Energy Supply'] = energy['Energy Supply'].apply(petajoules_to_gigajoules)"
   ]
  },
  {
   "cell_type": "code",
   "execution_count": 6,
   "id": "722c076d",
   "metadata": {},
   "outputs": [],
   "source": [
    " energy['Country'] = energy['Country'].replace(regex=True, to_replace='\\d', value='')"
   ]
  },
  {
   "cell_type": "code",
   "execution_count": 7,
   "id": "8f2fb48d",
   "metadata": {},
   "outputs": [],
   "source": [
    "energy['Country']=energy['Country'].replace({\"Republic of Korea\": \"South Korea\",\n",
    "                                                 \"Bolivia (Plurinational State of)\":\"Bolivia\",\n",
    "                                                 \"United States of America\": \"United States\",\n",
    "                                                 \"United Kingdom of Great Britain and Northern Ireland\": \"United Kingdom\",\n",
    "                                                 \"China, Hong Kong Special Administrative Region\": \"Hong Kong\"})"
   ]
  },
  {
   "cell_type": "code",
   "execution_count": 8,
   "id": "a91d6c2c",
   "metadata": {},
   "outputs": [
    {
     "data": {
      "text/html": [
       "<div>\n",
       "<style scoped>\n",
       "    .dataframe tbody tr th:only-of-type {\n",
       "        vertical-align: middle;\n",
       "    }\n",
       "\n",
       "    .dataframe tbody tr th {\n",
       "        vertical-align: top;\n",
       "    }\n",
       "\n",
       "    .dataframe thead th {\n",
       "        text-align: right;\n",
       "    }\n",
       "</style>\n",
       "<table border=\"1\" class=\"dataframe\">\n",
       "  <thead>\n",
       "    <tr style=\"text-align: right;\">\n",
       "      <th></th>\n",
       "      <th>Country</th>\n",
       "      <th>Energy Supply</th>\n",
       "      <th>Energy Supply per Capita</th>\n",
       "      <th>% Renewable</th>\n",
       "    </tr>\n",
       "  </thead>\n",
       "  <tbody>\n",
       "    <tr>\n",
       "      <th>4</th>\n",
       "      <td>American Samoa</td>\n",
       "      <td>NaN</td>\n",
       "      <td>NaN</td>\n",
       "      <td>0.641026</td>\n",
       "    </tr>\n",
       "    <tr>\n",
       "      <th>25</th>\n",
       "      <td>Bolivia</td>\n",
       "      <td>3.360000e+08</td>\n",
       "      <td>32.0</td>\n",
       "      <td>31.477120</td>\n",
       "    </tr>\n",
       "    <tr>\n",
       "      <th>106</th>\n",
       "      <td>Japan</td>\n",
       "      <td>1.898400e+10</td>\n",
       "      <td>149.0</td>\n",
       "      <td>10.232820</td>\n",
       "    </tr>\n",
       "    <tr>\n",
       "      <th>165</th>\n",
       "      <td>South Korea</td>\n",
       "      <td>1.100700e+10</td>\n",
       "      <td>221.0</td>\n",
       "      <td>2.279353</td>\n",
       "    </tr>\n",
       "  </tbody>\n",
       "</table>\n",
       "</div>"
      ],
      "text/plain": [
       "            Country  Energy Supply  Energy Supply per Capita  % Renewable\n",
       "4    American Samoa            NaN                       NaN     0.641026\n",
       "25          Bolivia   3.360000e+08                      32.0    31.477120\n",
       "106           Japan   1.898400e+10                     149.0    10.232820\n",
       "165     South Korea   1.100700e+10                     221.0     2.279353"
      ]
     },
     "execution_count": 8,
     "metadata": {},
     "output_type": "execute_result"
    }
   ],
   "source": [
    "energy.loc[energy['Country'].isin(['American Samoa','South Korea','Bolivia','Japan'])]"
   ]
  },
  {
   "cell_type": "code",
   "execution_count": 9,
   "id": "66c44a97",
   "metadata": {},
   "outputs": [],
   "source": [
    "GDP=pd.read_csv('C:\\\\Users\\\\aatay\\\\OneDrive\\\\Documents\\\\jupyter\\\\Lab1Py\\\\Gpd1.csv',skiprows = 4)\n",
    "GDP['Country Name']=GDP[GDP.columns[0]].replace({\"Korea, Rep.\": \"South Korea\", \n",
    "                        \"Iran, Islamic Rep.\": \"Iran\",\n",
    "                        \"Hong Kong SAR, China\": \"Hong Kong\"})"
   ]
  },
  {
   "cell_type": "code",
   "execution_count": 10,
   "id": "c7437a07",
   "metadata": {},
   "outputs": [
    {
     "data": {
      "text/html": [
       "<div>\n",
       "<style scoped>\n",
       "    .dataframe tbody tr th:only-of-type {\n",
       "        vertical-align: middle;\n",
       "    }\n",
       "\n",
       "    .dataframe tbody tr th {\n",
       "        vertical-align: top;\n",
       "    }\n",
       "\n",
       "    .dataframe thead th {\n",
       "        text-align: right;\n",
       "    }\n",
       "</style>\n",
       "<table border=\"1\" class=\"dataframe\">\n",
       "  <thead>\n",
       "    <tr style=\"text-align: right;\">\n",
       "      <th></th>\n",
       "      <th>Country Name</th>\n",
       "      <th>Country Code</th>\n",
       "      <th>Indicator Name</th>\n",
       "      <th>Indicator Code</th>\n",
       "      <th>1960</th>\n",
       "      <th>1961</th>\n",
       "      <th>1962</th>\n",
       "      <th>1963</th>\n",
       "      <th>1964</th>\n",
       "      <th>1965</th>\n",
       "      <th>...</th>\n",
       "      <th>2006</th>\n",
       "      <th>2007</th>\n",
       "      <th>2008</th>\n",
       "      <th>2009</th>\n",
       "      <th>2010</th>\n",
       "      <th>2011</th>\n",
       "      <th>2012</th>\n",
       "      <th>2013</th>\n",
       "      <th>2014</th>\n",
       "      <th>2015</th>\n",
       "    </tr>\n",
       "  </thead>\n",
       "  <tbody>\n",
       "    <tr>\n",
       "      <th>0</th>\n",
       "      <td>Aruba</td>\n",
       "      <td>ABW</td>\n",
       "      <td>GDP at market prices (constant 2010 US$)</td>\n",
       "      <td>NY.GDP.MKTP.KD</td>\n",
       "      <td>NaN</td>\n",
       "      <td>NaN</td>\n",
       "      <td>NaN</td>\n",
       "      <td>NaN</td>\n",
       "      <td>NaN</td>\n",
       "      <td>NaN</td>\n",
       "      <td>...</td>\n",
       "      <td>NaN</td>\n",
       "      <td>NaN</td>\n",
       "      <td>NaN</td>\n",
       "      <td>NaN</td>\n",
       "      <td>2.467704e+09</td>\n",
       "      <td>NaN</td>\n",
       "      <td>NaN</td>\n",
       "      <td>NaN</td>\n",
       "      <td>NaN</td>\n",
       "      <td>NaN</td>\n",
       "    </tr>\n",
       "    <tr>\n",
       "      <th>1</th>\n",
       "      <td>Andorra</td>\n",
       "      <td>AND</td>\n",
       "      <td>GDP at market prices (constant 2010 US$)</td>\n",
       "      <td>NY.GDP.MKTP.KD</td>\n",
       "      <td>NaN</td>\n",
       "      <td>NaN</td>\n",
       "      <td>NaN</td>\n",
       "      <td>NaN</td>\n",
       "      <td>NaN</td>\n",
       "      <td>NaN</td>\n",
       "      <td>...</td>\n",
       "      <td>4.018196e+09</td>\n",
       "      <td>4.021331e+09</td>\n",
       "      <td>3.675728e+09</td>\n",
       "      <td>3.535389e+09</td>\n",
       "      <td>3.346317e+09</td>\n",
       "      <td>3.185605e+09</td>\n",
       "      <td>3.129538e+09</td>\n",
       "      <td>3.127550e+09</td>\n",
       "      <td>NaN</td>\n",
       "      <td>NaN</td>\n",
       "    </tr>\n",
       "    <tr>\n",
       "      <th>2</th>\n",
       "      <td>Afghanistan</td>\n",
       "      <td>AFG</td>\n",
       "      <td>GDP at market prices (constant 2010 US$)</td>\n",
       "      <td>NY.GDP.MKTP.KD</td>\n",
       "      <td>NaN</td>\n",
       "      <td>NaN</td>\n",
       "      <td>NaN</td>\n",
       "      <td>NaN</td>\n",
       "      <td>NaN</td>\n",
       "      <td>NaN</td>\n",
       "      <td>...</td>\n",
       "      <td>1.030523e+10</td>\n",
       "      <td>1.172119e+10</td>\n",
       "      <td>1.214448e+10</td>\n",
       "      <td>1.469733e+10</td>\n",
       "      <td>1.593680e+10</td>\n",
       "      <td>1.691113e+10</td>\n",
       "      <td>1.935220e+10</td>\n",
       "      <td>1.973134e+10</td>\n",
       "      <td>1.999032e+10</td>\n",
       "      <td>2.029415e+10</td>\n",
       "    </tr>\n",
       "    <tr>\n",
       "      <th>3</th>\n",
       "      <td>Angola</td>\n",
       "      <td>AGO</td>\n",
       "      <td>GDP at market prices (constant 2010 US$)</td>\n",
       "      <td>NY.GDP.MKTP.KD</td>\n",
       "      <td>NaN</td>\n",
       "      <td>NaN</td>\n",
       "      <td>NaN</td>\n",
       "      <td>NaN</td>\n",
       "      <td>NaN</td>\n",
       "      <td>NaN</td>\n",
       "      <td>...</td>\n",
       "      <td>5.581103e+10</td>\n",
       "      <td>6.842044e+10</td>\n",
       "      <td>7.787420e+10</td>\n",
       "      <td>7.975320e+10</td>\n",
       "      <td>8.247091e+10</td>\n",
       "      <td>8.570262e+10</td>\n",
       "      <td>9.012096e+10</td>\n",
       "      <td>9.626143e+10</td>\n",
       "      <td>1.008863e+11</td>\n",
       "      <td>1.039106e+11</td>\n",
       "    </tr>\n",
       "    <tr>\n",
       "      <th>4</th>\n",
       "      <td>Albania</td>\n",
       "      <td>ALB</td>\n",
       "      <td>GDP at market prices (constant 2010 US$)</td>\n",
       "      <td>NY.GDP.MKTP.KD</td>\n",
       "      <td>NaN</td>\n",
       "      <td>NaN</td>\n",
       "      <td>NaN</td>\n",
       "      <td>NaN</td>\n",
       "      <td>NaN</td>\n",
       "      <td>NaN</td>\n",
       "      <td>...</td>\n",
       "      <td>9.771760e+09</td>\n",
       "      <td>1.034829e+10</td>\n",
       "      <td>1.112752e+10</td>\n",
       "      <td>1.150029e+10</td>\n",
       "      <td>1.192695e+10</td>\n",
       "      <td>1.223109e+10</td>\n",
       "      <td>1.240477e+10</td>\n",
       "      <td>1.254247e+10</td>\n",
       "      <td>1.279331e+10</td>\n",
       "      <td>1.312082e+10</td>\n",
       "    </tr>\n",
       "    <tr>\n",
       "      <th>...</th>\n",
       "      <td>...</td>\n",
       "      <td>...</td>\n",
       "      <td>...</td>\n",
       "      <td>...</td>\n",
       "      <td>...</td>\n",
       "      <td>...</td>\n",
       "      <td>...</td>\n",
       "      <td>...</td>\n",
       "      <td>...</td>\n",
       "      <td>...</td>\n",
       "      <td>...</td>\n",
       "      <td>...</td>\n",
       "      <td>...</td>\n",
       "      <td>...</td>\n",
       "      <td>...</td>\n",
       "      <td>...</td>\n",
       "      <td>...</td>\n",
       "      <td>...</td>\n",
       "      <td>...</td>\n",
       "      <td>...</td>\n",
       "      <td>...</td>\n",
       "    </tr>\n",
       "    <tr>\n",
       "      <th>259</th>\n",
       "      <td>Yemen, Rep.</td>\n",
       "      <td>YEM</td>\n",
       "      <td>GDP at market prices (constant 2010 US$)</td>\n",
       "      <td>NY.GDP.MKTP.KD</td>\n",
       "      <td>NaN</td>\n",
       "      <td>NaN</td>\n",
       "      <td>NaN</td>\n",
       "      <td>NaN</td>\n",
       "      <td>NaN</td>\n",
       "      <td>NaN</td>\n",
       "      <td>...</td>\n",
       "      <td>2.672565e+10</td>\n",
       "      <td>2.761787e+10</td>\n",
       "      <td>2.872656e+10</td>\n",
       "      <td>2.991436e+10</td>\n",
       "      <td>3.090675e+10</td>\n",
       "      <td>2.624342e+10</td>\n",
       "      <td>2.689160e+10</td>\n",
       "      <td>2.800914e+10</td>\n",
       "      <td>NaN</td>\n",
       "      <td>NaN</td>\n",
       "    </tr>\n",
       "    <tr>\n",
       "      <th>260</th>\n",
       "      <td>South Africa</td>\n",
       "      <td>ZAF</td>\n",
       "      <td>GDP at market prices (constant 2010 US$)</td>\n",
       "      <td>NY.GDP.MKTP.KD</td>\n",
       "      <td>7.707081e+10</td>\n",
       "      <td>8.003449e+10</td>\n",
       "      <td>8.497844e+10</td>\n",
       "      <td>9.124438e+10</td>\n",
       "      <td>9.848904e+10</td>\n",
       "      <td>1.072507e+11</td>\n",
       "      <td>...</td>\n",
       "      <td>3.402852e+11</td>\n",
       "      <td>3.585261e+11</td>\n",
       "      <td>3.699668e+11</td>\n",
       "      <td>3.642764e+11</td>\n",
       "      <td>3.753494e+11</td>\n",
       "      <td>3.874074e+11</td>\n",
       "      <td>3.960071e+11</td>\n",
       "      <td>4.047682e+11</td>\n",
       "      <td>4.110369e+11</td>\n",
       "      <td>4.163117e+11</td>\n",
       "    </tr>\n",
       "    <tr>\n",
       "      <th>261</th>\n",
       "      <td>Congo, Dem. Rep.</td>\n",
       "      <td>COD</td>\n",
       "      <td>GDP at market prices (constant 2010 US$)</td>\n",
       "      <td>NY.GDP.MKTP.KD</td>\n",
       "      <td>1.508024e+10</td>\n",
       "      <td>1.344383e+10</td>\n",
       "      <td>1.629401e+10</td>\n",
       "      <td>1.714358e+10</td>\n",
       "      <td>1.672524e+10</td>\n",
       "      <td>1.689205e+10</td>\n",
       "      <td>...</td>\n",
       "      <td>1.650894e+10</td>\n",
       "      <td>1.754232e+10</td>\n",
       "      <td>1.863448e+10</td>\n",
       "      <td>1.916651e+10</td>\n",
       "      <td>2.052329e+10</td>\n",
       "      <td>2.193213e+10</td>\n",
       "      <td>2.350200e+10</td>\n",
       "      <td>2.550050e+10</td>\n",
       "      <td>2.778776e+10</td>\n",
       "      <td>2.970961e+10</td>\n",
       "    </tr>\n",
       "    <tr>\n",
       "      <th>262</th>\n",
       "      <td>Zambia</td>\n",
       "      <td>ZMB</td>\n",
       "      <td>GDP at market prices (constant 2010 US$)</td>\n",
       "      <td>NY.GDP.MKTP.KD</td>\n",
       "      <td>4.592975e+09</td>\n",
       "      <td>4.655503e+09</td>\n",
       "      <td>4.539542e+09</td>\n",
       "      <td>4.688093e+09</td>\n",
       "      <td>5.260699e+09</td>\n",
       "      <td>6.136472e+09</td>\n",
       "      <td>...</td>\n",
       "      <td>1.440569e+10</td>\n",
       "      <td>1.560892e+10</td>\n",
       "      <td>1.682234e+10</td>\n",
       "      <td>1.837342e+10</td>\n",
       "      <td>2.026555e+10</td>\n",
       "      <td>2.140358e+10</td>\n",
       "      <td>2.302438e+10</td>\n",
       "      <td>2.420595e+10</td>\n",
       "      <td>2.542227e+10</td>\n",
       "      <td>2.624127e+10</td>\n",
       "    </tr>\n",
       "    <tr>\n",
       "      <th>263</th>\n",
       "      <td>Zimbabwe</td>\n",
       "      <td>ZWE</td>\n",
       "      <td>GDP at market prices (constant 2010 US$)</td>\n",
       "      <td>NY.GDP.MKTP.KD</td>\n",
       "      <td>3.338344e+09</td>\n",
       "      <td>3.549199e+09</td>\n",
       "      <td>3.600111e+09</td>\n",
       "      <td>3.824915e+09</td>\n",
       "      <td>3.782605e+09</td>\n",
       "      <td>3.968352e+09</td>\n",
       "      <td>...</td>\n",
       "      <td>1.006276e+10</td>\n",
       "      <td>9.695130e+09</td>\n",
       "      <td>7.982103e+09</td>\n",
       "      <td>8.459783e+09</td>\n",
       "      <td>9.422161e+09</td>\n",
       "      <td>1.054391e+10</td>\n",
       "      <td>1.165789e+10</td>\n",
       "      <td>1.218064e+10</td>\n",
       "      <td>1.264939e+10</td>\n",
       "      <td>1.278517e+10</td>\n",
       "    </tr>\n",
       "  </tbody>\n",
       "</table>\n",
       "<p>264 rows × 60 columns</p>\n",
       "</div>"
      ],
      "text/plain": [
       "         Country Name Country Code                            Indicator Name  \\\n",
       "0               Aruba          ABW  GDP at market prices (constant 2010 US$)   \n",
       "1             Andorra          AND  GDP at market prices (constant 2010 US$)   \n",
       "2         Afghanistan          AFG  GDP at market prices (constant 2010 US$)   \n",
       "3              Angola          AGO  GDP at market prices (constant 2010 US$)   \n",
       "4             Albania          ALB  GDP at market prices (constant 2010 US$)   \n",
       "..                ...          ...                                       ...   \n",
       "259       Yemen, Rep.          YEM  GDP at market prices (constant 2010 US$)   \n",
       "260      South Africa          ZAF  GDP at market prices (constant 2010 US$)   \n",
       "261  Congo, Dem. Rep.          COD  GDP at market prices (constant 2010 US$)   \n",
       "262            Zambia          ZMB  GDP at market prices (constant 2010 US$)   \n",
       "263          Zimbabwe          ZWE  GDP at market prices (constant 2010 US$)   \n",
       "\n",
       "     Indicator Code          1960          1961          1962          1963  \\\n",
       "0    NY.GDP.MKTP.KD           NaN           NaN           NaN           NaN   \n",
       "1    NY.GDP.MKTP.KD           NaN           NaN           NaN           NaN   \n",
       "2    NY.GDP.MKTP.KD           NaN           NaN           NaN           NaN   \n",
       "3    NY.GDP.MKTP.KD           NaN           NaN           NaN           NaN   \n",
       "4    NY.GDP.MKTP.KD           NaN           NaN           NaN           NaN   \n",
       "..              ...           ...           ...           ...           ...   \n",
       "259  NY.GDP.MKTP.KD           NaN           NaN           NaN           NaN   \n",
       "260  NY.GDP.MKTP.KD  7.707081e+10  8.003449e+10  8.497844e+10  9.124438e+10   \n",
       "261  NY.GDP.MKTP.KD  1.508024e+10  1.344383e+10  1.629401e+10  1.714358e+10   \n",
       "262  NY.GDP.MKTP.KD  4.592975e+09  4.655503e+09  4.539542e+09  4.688093e+09   \n",
       "263  NY.GDP.MKTP.KD  3.338344e+09  3.549199e+09  3.600111e+09  3.824915e+09   \n",
       "\n",
       "             1964          1965  ...          2006          2007  \\\n",
       "0             NaN           NaN  ...           NaN           NaN   \n",
       "1             NaN           NaN  ...  4.018196e+09  4.021331e+09   \n",
       "2             NaN           NaN  ...  1.030523e+10  1.172119e+10   \n",
       "3             NaN           NaN  ...  5.581103e+10  6.842044e+10   \n",
       "4             NaN           NaN  ...  9.771760e+09  1.034829e+10   \n",
       "..            ...           ...  ...           ...           ...   \n",
       "259           NaN           NaN  ...  2.672565e+10  2.761787e+10   \n",
       "260  9.848904e+10  1.072507e+11  ...  3.402852e+11  3.585261e+11   \n",
       "261  1.672524e+10  1.689205e+10  ...  1.650894e+10  1.754232e+10   \n",
       "262  5.260699e+09  6.136472e+09  ...  1.440569e+10  1.560892e+10   \n",
       "263  3.782605e+09  3.968352e+09  ...  1.006276e+10  9.695130e+09   \n",
       "\n",
       "             2008          2009          2010          2011          2012  \\\n",
       "0             NaN           NaN  2.467704e+09           NaN           NaN   \n",
       "1    3.675728e+09  3.535389e+09  3.346317e+09  3.185605e+09  3.129538e+09   \n",
       "2    1.214448e+10  1.469733e+10  1.593680e+10  1.691113e+10  1.935220e+10   \n",
       "3    7.787420e+10  7.975320e+10  8.247091e+10  8.570262e+10  9.012096e+10   \n",
       "4    1.112752e+10  1.150029e+10  1.192695e+10  1.223109e+10  1.240477e+10   \n",
       "..            ...           ...           ...           ...           ...   \n",
       "259  2.872656e+10  2.991436e+10  3.090675e+10  2.624342e+10  2.689160e+10   \n",
       "260  3.699668e+11  3.642764e+11  3.753494e+11  3.874074e+11  3.960071e+11   \n",
       "261  1.863448e+10  1.916651e+10  2.052329e+10  2.193213e+10  2.350200e+10   \n",
       "262  1.682234e+10  1.837342e+10  2.026555e+10  2.140358e+10  2.302438e+10   \n",
       "263  7.982103e+09  8.459783e+09  9.422161e+09  1.054391e+10  1.165789e+10   \n",
       "\n",
       "             2013          2014          2015  \n",
       "0             NaN           NaN           NaN  \n",
       "1    3.127550e+09           NaN           NaN  \n",
       "2    1.973134e+10  1.999032e+10  2.029415e+10  \n",
       "3    9.626143e+10  1.008863e+11  1.039106e+11  \n",
       "4    1.254247e+10  1.279331e+10  1.312082e+10  \n",
       "..            ...           ...           ...  \n",
       "259  2.800914e+10           NaN           NaN  \n",
       "260  4.047682e+11  4.110369e+11  4.163117e+11  \n",
       "261  2.550050e+10  2.778776e+10  2.970961e+10  \n",
       "262  2.420595e+10  2.542227e+10  2.624127e+10  \n",
       "263  1.218064e+10  1.264939e+10  1.278517e+10  \n",
       "\n",
       "[264 rows x 60 columns]"
      ]
     },
     "execution_count": 10,
     "metadata": {},
     "output_type": "execute_result"
    }
   ],
   "source": [
    "GDP"
   ]
  },
  {
   "cell_type": "code",
   "execution_count": 11,
   "id": "e37e57e9",
   "metadata": {},
   "outputs": [],
   "source": [
    "Scim=pd.read_excel('C:\\\\Users\\\\aatay\\\\OneDrive\\\\Documents\\\\jupyter\\\\Lab1Py\\\\scimagojr.xlsx')"
   ]
  },
  {
   "cell_type": "code",
   "execution_count": 12,
   "id": "87a821c0",
   "metadata": {},
   "outputs": [],
   "source": [
    "df=energy.merge(GDP,how='inner',left_on='Country',right_on='Country Name')\n",
    "df=df.merge(Scim,left_on='Country',right_on='Country')\n",
    "\n",
    "df=df.loc[:,['Country Name','Country','Rank', 'Documents', 'Citable documents', 'Citations', 'Self-citations', 'Citations per document', \n",
    "          'H index', 'Energy Supply', 'Energy Supply per Capita', '% Renewable', '2006', '2007', '2008', \n",
    "          '2009', '2010', '2011', '2012', '2013', '2014', '2015']]\n",
    "df=df.set_index('Country')\n",
    "\n",
    "result=df[df['Rank']<=15]\n",
    "result=result.sort_values('Rank')"
   ]
  },
  {
   "cell_type": "code",
   "execution_count": 13,
   "id": "40b0da6c",
   "metadata": {},
   "outputs": [
    {
     "data": {
      "text/plain": [
       "(14, 21)"
      ]
     },
     "execution_count": 13,
     "metadata": {},
     "output_type": "execute_result"
    }
   ],
   "source": [
    "result.shape"
   ]
  },
  {
   "cell_type": "code",
   "execution_count": 14,
   "id": "b4eec033",
   "metadata": {},
   "outputs": [],
   "source": [
    "top15 = result.iloc[:,-10:].apply(np.mean,axis=1).sort_values(ascending=False)"
   ]
  },
  {
   "cell_type": "code",
   "execution_count": 15,
   "id": "38b66162",
   "metadata": {},
   "outputs": [
    {
     "data": {
      "text/plain": [
       "Country\n",
       "United States         1.536434e+13\n",
       "China                 6.348609e+12\n",
       "Japan                 5.542208e+12\n",
       "Germany               3.493025e+12\n",
       "France                2.681725e+12\n",
       "United Kingdom        2.487907e+12\n",
       "Brazil                2.189794e+12\n",
       "Italy                 2.120175e+12\n",
       "India                 1.769297e+12\n",
       "Canada                1.660647e+12\n",
       "Russian Federation    1.565459e+12\n",
       "Spain                 1.418078e+12\n",
       "Australia             1.164043e+12\n",
       "South Korea           1.106715e+12\n",
       "dtype: float64"
      ]
     },
     "execution_count": 15,
     "metadata": {},
     "output_type": "execute_result"
    }
   ],
   "source": [
    "top15"
   ]
  },
  {
   "cell_type": "code",
   "execution_count": 16,
   "id": "a8ab29ad",
   "metadata": {},
   "outputs": [
    {
     "data": {
      "text/plain": [
       "Country\n",
       "France    1.533457e+11\n",
       "dtype: float64"
      ]
     },
     "execution_count": 16,
     "metadata": {},
     "output_type": "execute_result"
    }
   ],
   "source": [
    "result.where(result['Rank']==9).dropna().loc[:,['2006','2015']].apply(lambda x:x['2015']-x['2006'],axis=1)"
   ]
  },
  {
   "cell_type": "code",
   "execution_count": 17,
   "id": "3d44e322",
   "metadata": {},
   "outputs": [
    {
     "data": {
      "text/plain": [
       "('Brazil', 69.64803)"
      ]
     },
     "execution_count": 17,
     "metadata": {},
     "output_type": "execute_result"
    }
   ],
   "source": [
    "task_ten=result.where(result['% Renewable']==np.max(result['% Renewable'])).dropna()\n",
    "task_ten.index[0],task_ten['% Renewable'][0]"
   ]
  },
  {
   "cell_type": "code",
   "execution_count": 18,
   "id": "21cbdeab",
   "metadata": {},
   "outputs": [
    {
     "data": {
      "text/plain": [
       "Country\n",
       "Japan    127409395\n",
       "Name: PopEst, dtype: int32"
      ]
     },
     "execution_count": 18,
     "metadata": {},
     "output_type": "execute_result"
    }
   ],
   "source": [
    "t11=result.copy()\n",
    "t11['PopEst']=(t11['Energy Supply']/t11['Energy Supply per Capita']).astype('int')\n",
    "t11['PopEst'].iloc[2:3]"
   ]
  },
  {
   "cell_type": "code",
   "execution_count": 19,
   "id": "681e154c",
   "metadata": {},
   "outputs": [
    {
     "data": {
      "text/plain": [
       "0.7901935488300876"
      ]
     },
     "execution_count": 19,
     "metadata": {},
     "output_type": "execute_result"
    }
   ],
   "source": [
    "t12=result.copy()\n",
    "\n",
    "t12['pop.est']=t12['Energy Supply']/t12['Energy Supply per Capita']\n",
    "t12['citable per capita']=t12['Citable documents']/t12['pop.est']\n",
    "t12['Energy Supply per Capita']=t12['Energy Supply per Capita'].astype('float64')\n",
    "t12['citable per capita']=t12['citable per capita'].astype('float64')\n",
    "t12['citable per capita'].corr(t12['Energy Supply per Capita'])"
   ]
  },
  {
   "cell_type": "code",
   "execution_count": 20,
   "id": "7bc34c54",
   "metadata": {},
   "outputs": [
    {
     "data": {
      "text/plain": [
       "Country\n",
       "China                 1\n",
       "United States         0\n",
       "Japan                 0\n",
       "United Kingdom        0\n",
       "Russian Federation    1\n",
       "Canada                1\n",
       "Germany               1\n",
       "India                 0\n",
       "France                0\n",
       "South Korea           0\n",
       "Italy                 1\n",
       "Spain                 1\n",
       "Australia             0\n",
       "Brazil                1\n",
       "Name: HighRenew, dtype: int32"
      ]
     },
     "execution_count": 20,
     "metadata": {},
     "output_type": "execute_result"
    }
   ],
   "source": [
    "t13=result.copy()\n",
    "t13.loc[t13['% Renewable'] >= t13['% Renewable'].median(),'HighRenew'] = 1\n",
    "t13.loc[t13['% Renewable'] < t13['% Renewable'].median(),'HighRenew'] = 0\n",
    "t13['HighRenew'].astype('int')\n"
   ]
  },
  {
   "cell_type": "code",
   "execution_count": 21,
   "id": "d0794ee2",
   "metadata": {},
   "outputs": [],
   "source": [
    "t14=result.copy()\n",
    "t14['pop.est']=(t14['Energy Supply']/t14['Energy Supply per Capita']).astype('float64')\n",
    "ContinentDict  = {'China':'Asia', \n",
    "                  'United States':'North America', \n",
    "                  'Japan':'Asia',\n",
    "                  'United Kingdom':'Europe', \n",
    "                  'Russian Federation':'Europe', \n",
    "                  'Canada':'North America', \n",
    "                  'Germany':'Europe', \n",
    "                  'India':'Asia',\n",
    "                  'France':'Europe', \n",
    "                  'South Korea':'Asia', \n",
    "                  'Italy':'Europe', \n",
    "                  'Spain':'Europe', \n",
    "                  'Iran':'Asia',\n",
    "                  'Australia':'Australia', \n",
    "                  'Brazil':'South America'}\n",
    "a11=t14.groupby(ContinentDict).agg({'pop.est':[len,sum,np.mean,np.std]})\n",
    "a11.columns=a11.columns.droplevel()\n",
    "a11=a11.rename(columns={'len':'size'})\n",
    "a11['size']=a11['size'].astype('int')\n",
    "equiv = {'China': 'Asia',\n",
    " 'United States': 'North America',\n",
    " 'Japan': 'Asia',\n",
    " 'United Kingdom': 'Europe',\n",
    " 'Russian Federation': 'Europe',\n",
    " 'Canada': 'North America',\n",
    " 'Germany': 'Europe',\n",
    " 'India': 'Asia',\n",
    " 'France': 'Europe',\n",
    " 'South Korea': 'Asia',\n",
    " 'Italy': 'Europe',\n",
    " 'Spain': 'Europe',\n",
    " 'Iran': 'Asia',\n",
    " 'Australia': 'Australia',\n",
    " 'Brazil': 'South America'}\n",
    "result['Continentals'] = result['Country Name'].map(equiv)"
   ]
  },
  {
   "cell_type": "code",
   "execution_count": 22,
   "id": "9be31e96",
   "metadata": {},
   "outputs": [
    {
     "data": {
      "text/html": [
       "<div>\n",
       "<style scoped>\n",
       "    .dataframe tbody tr th:only-of-type {\n",
       "        vertical-align: middle;\n",
       "    }\n",
       "\n",
       "    .dataframe tbody tr th {\n",
       "        vertical-align: top;\n",
       "    }\n",
       "\n",
       "    .dataframe thead th {\n",
       "        text-align: right;\n",
       "    }\n",
       "</style>\n",
       "<table border=\"1\" class=\"dataframe\">\n",
       "  <thead>\n",
       "    <tr style=\"text-align: right;\">\n",
       "      <th></th>\n",
       "      <th>size</th>\n",
       "      <th>sum</th>\n",
       "      <th>mean</th>\n",
       "      <th>std</th>\n",
       "    </tr>\n",
       "    <tr>\n",
       "      <th>Country</th>\n",
       "      <th></th>\n",
       "      <th></th>\n",
       "      <th></th>\n",
       "      <th></th>\n",
       "    </tr>\n",
       "  </thead>\n",
       "  <tbody>\n",
       "    <tr>\n",
       "      <th>Asia</th>\n",
       "      <td>4</td>\n",
       "      <td>2.821591e+09</td>\n",
       "      <td>7.053977e+08</td>\n",
       "      <td>7.138779e+08</td>\n",
       "    </tr>\n",
       "    <tr>\n",
       "      <th>Australia</th>\n",
       "      <td>1</td>\n",
       "      <td>2.331602e+07</td>\n",
       "      <td>2.331602e+07</td>\n",
       "      <td>NaN</td>\n",
       "    </tr>\n",
       "    <tr>\n",
       "      <th>Europe</th>\n",
       "      <td>6</td>\n",
       "      <td>4.579297e+08</td>\n",
       "      <td>7.632161e+07</td>\n",
       "      <td>3.464767e+07</td>\n",
       "    </tr>\n",
       "    <tr>\n",
       "      <th>North America</th>\n",
       "      <td>2</td>\n",
       "      <td>3.528552e+08</td>\n",
       "      <td>1.764276e+08</td>\n",
       "      <td>1.996696e+08</td>\n",
       "    </tr>\n",
       "    <tr>\n",
       "      <th>South America</th>\n",
       "      <td>1</td>\n",
       "      <td>2.059153e+08</td>\n",
       "      <td>2.059153e+08</td>\n",
       "      <td>NaN</td>\n",
       "    </tr>\n",
       "  </tbody>\n",
       "</table>\n",
       "</div>"
      ],
      "text/plain": [
       "               size           sum          mean           std\n",
       "Country                                                      \n",
       "Asia              4  2.821591e+09  7.053977e+08  7.138779e+08\n",
       "Australia         1  2.331602e+07  2.331602e+07           NaN\n",
       "Europe            6  4.579297e+08  7.632161e+07  3.464767e+07\n",
       "North America     2  3.528552e+08  1.764276e+08  1.996696e+08\n",
       "South America     1  2.059153e+08  2.059153e+08           NaN"
      ]
     },
     "execution_count": 22,
     "metadata": {},
     "output_type": "execute_result"
    }
   ],
   "source": [
    "a11"
   ]
  },
  {
   "cell_type": "code",
   "execution_count": 29,
   "id": "85fbe227",
   "metadata": {
    "scrolled": true
   },
   "outputs": [
    {
     "data": {
      "application/vnd.plotly.v1+json": {
       "config": {
        "plotlyServerURL": "https://plot.ly"
       },
       "data": [
        {
         "hovertemplate": "<b>%{hovertext}</b><br><br>Continentals=Asia<br>Rank=%{x}<br>% Renewable=%{y}<br>size=%{marker.size}<br>Country Name=%{text}<extra></extra>",
         "hovertext": [
          "China",
          "Japan",
          "India",
          "South Korea"
         ],
         "legendgroup": "Asia",
         "marker": {
          "color": "red",
          "size": [
           5278.799364252767,
           3401.737885884582,
           1420.3236713754359,
           759.948246185466
          ],
          "sizemode": "area",
          "sizeref": 24.82285991745,
          "symbol": "circle"
         },
         "mode": "markers+text",
         "name": "Asia",
         "orientation": "v",
         "showlegend": true,
         "text": [
          "China",
          "Japan",
          "India",
          "South Korea"
         ],
         "type": "scatter",
         "x": [
          1,
          3,
          8,
          10
         ],
         "xaxis": "x",
         "y": [
          19.75491,
          10.23282,
          14.96908,
          2.279353
         ],
         "yaxis": "y"
        },
        {
         "hovertemplate": "<b>%{hovertext}</b><br><br>Continentals=North America<br>Rank=%{x}<br>% Renewable=%{y}<br>size=%{marker.size}<br>Country Name=%{text}<extra></extra>",
         "hovertext": [
          "United States",
          "Canada"
         ],
         "legendgroup": "North America",
         "marker": {
          "color": "blue",
          "size": [
           9929.14396698,
           1075.565258765286
          ],
          "sizemode": "area",
          "sizeref": 24.82285991745,
          "symbol": "circle"
         },
         "mode": "markers+text",
         "name": "North America",
         "orientation": "v",
         "showlegend": true,
         "text": [
          "United States",
          "Canada"
         ],
         "type": "scatter",
         "x": [
          2,
          6
         ],
         "xaxis": "x",
         "y": [
          11.57098,
          61.94543
         ],
         "yaxis": "y"
        },
        {
         "hovertemplate": "<b>%{hovertext}</b><br><br>Continentals=Europe<br>Rank=%{x}<br>% Renewable=%{y}<br>size=%{marker.size}<br>Country Name=%{text}<extra></extra>",
         "hovertext": [
          "United Kingdom",
          "Russian Federation",
          "Germany",
          "France",
          "Italy",
          "Spain"
         ],
         "legendgroup": "Europe",
         "marker": {
          "color": "green",
          "size": [
           1599.800037886278,
           969.6893148202621,
           2211.333544370862,
           1656.711258278148,
           1229.589362145696,
           851.892715231788
          ],
          "sizemode": "area",
          "sizeref": 24.82285991745,
          "symbol": "circle"
         },
         "mode": "markers+text",
         "name": "Europe",
         "orientation": "v",
         "showlegend": true,
         "text": [
          "United Kingdom",
          "Russian Federation",
          "Germany",
          "France",
          "Italy",
          "Spain"
         ],
         "type": "scatter",
         "x": [
          4,
          5,
          7,
          9,
          11,
          12
         ],
         "xaxis": "x",
         "y": [
          10.60047,
          17.28868,
          17.90153,
          17.02028,
          33.66723,
          37.96859
         ],
         "yaxis": "y"
        },
        {
         "hovertemplate": "<b>%{hovertext}</b><br><br>Continentals=Australia<br>Rank=%{x}<br>% Renewable=%{y}<br>size=%{marker.size}<br>Country Name=%{text}<extra></extra>",
         "hovertext": [
          "Australia"
         ],
         "legendgroup": "Australia",
         "marker": {
          "color": "yellow",
          "size": [
           780.7506182673959
          ],
          "sizemode": "area",
          "sizeref": 24.82285991745,
          "symbol": "circle"
         },
         "mode": "markers+text",
         "name": "Australia",
         "orientation": "v",
         "showlegend": true,
         "text": [
          "Australia"
         ],
         "type": "scatter",
         "x": [
          14
         ],
         "xaxis": "x",
         "y": [
          11.81081
         ],
         "yaxis": "y"
        },
        {
         "hovertemplate": "<b>%{hovertext}</b><br><br>Continentals=South America<br>Rank=%{x}<br>% Renewable=%{y}<br>size=%{marker.size}<br>Country Name=%{text}<extra></extra>",
         "hovertext": [
          "Brazil"
         ],
         "legendgroup": "South America",
         "marker": {
          "color": "orange",
          "size": [
           1391.654034296478
          ],
          "sizemode": "area",
          "sizeref": 24.82285991745,
          "symbol": "circle"
         },
         "mode": "markers+text",
         "name": "South America",
         "orientation": "v",
         "showlegend": true,
         "text": [
          "Brazil"
         ],
         "type": "scatter",
         "x": [
          15
         ],
         "xaxis": "x",
         "y": [
          69.64803
         ],
         "yaxis": "y"
        }
       ],
       "layout": {
        "legend": {
         "itemsizing": "constant",
         "title": {
          "text": "Continentals"
         },
         "tracegroupgap": 0
        },
        "margin": {
         "t": 60
        },
        "template": {
         "data": {
          "bar": [
           {
            "error_x": {
             "color": "#2a3f5f"
            },
            "error_y": {
             "color": "#2a3f5f"
            },
            "marker": {
             "line": {
              "color": "#E5ECF6",
              "width": 0.5
             },
             "pattern": {
              "fillmode": "overlay",
              "size": 10,
              "solidity": 0.2
             }
            },
            "type": "bar"
           }
          ],
          "barpolar": [
           {
            "marker": {
             "line": {
              "color": "#E5ECF6",
              "width": 0.5
             },
             "pattern": {
              "fillmode": "overlay",
              "size": 10,
              "solidity": 0.2
             }
            },
            "type": "barpolar"
           }
          ],
          "carpet": [
           {
            "aaxis": {
             "endlinecolor": "#2a3f5f",
             "gridcolor": "white",
             "linecolor": "white",
             "minorgridcolor": "white",
             "startlinecolor": "#2a3f5f"
            },
            "baxis": {
             "endlinecolor": "#2a3f5f",
             "gridcolor": "white",
             "linecolor": "white",
             "minorgridcolor": "white",
             "startlinecolor": "#2a3f5f"
            },
            "type": "carpet"
           }
          ],
          "choropleth": [
           {
            "colorbar": {
             "outlinewidth": 0,
             "ticks": ""
            },
            "type": "choropleth"
           }
          ],
          "contour": [
           {
            "colorbar": {
             "outlinewidth": 0,
             "ticks": ""
            },
            "colorscale": [
             [
              0,
              "#0d0887"
             ],
             [
              0.1111111111111111,
              "#46039f"
             ],
             [
              0.2222222222222222,
              "#7201a8"
             ],
             [
              0.3333333333333333,
              "#9c179e"
             ],
             [
              0.4444444444444444,
              "#bd3786"
             ],
             [
              0.5555555555555556,
              "#d8576b"
             ],
             [
              0.6666666666666666,
              "#ed7953"
             ],
             [
              0.7777777777777778,
              "#fb9f3a"
             ],
             [
              0.8888888888888888,
              "#fdca26"
             ],
             [
              1,
              "#f0f921"
             ]
            ],
            "type": "contour"
           }
          ],
          "contourcarpet": [
           {
            "colorbar": {
             "outlinewidth": 0,
             "ticks": ""
            },
            "type": "contourcarpet"
           }
          ],
          "heatmap": [
           {
            "colorbar": {
             "outlinewidth": 0,
             "ticks": ""
            },
            "colorscale": [
             [
              0,
              "#0d0887"
             ],
             [
              0.1111111111111111,
              "#46039f"
             ],
             [
              0.2222222222222222,
              "#7201a8"
             ],
             [
              0.3333333333333333,
              "#9c179e"
             ],
             [
              0.4444444444444444,
              "#bd3786"
             ],
             [
              0.5555555555555556,
              "#d8576b"
             ],
             [
              0.6666666666666666,
              "#ed7953"
             ],
             [
              0.7777777777777778,
              "#fb9f3a"
             ],
             [
              0.8888888888888888,
              "#fdca26"
             ],
             [
              1,
              "#f0f921"
             ]
            ],
            "type": "heatmap"
           }
          ],
          "heatmapgl": [
           {
            "colorbar": {
             "outlinewidth": 0,
             "ticks": ""
            },
            "colorscale": [
             [
              0,
              "#0d0887"
             ],
             [
              0.1111111111111111,
              "#46039f"
             ],
             [
              0.2222222222222222,
              "#7201a8"
             ],
             [
              0.3333333333333333,
              "#9c179e"
             ],
             [
              0.4444444444444444,
              "#bd3786"
             ],
             [
              0.5555555555555556,
              "#d8576b"
             ],
             [
              0.6666666666666666,
              "#ed7953"
             ],
             [
              0.7777777777777778,
              "#fb9f3a"
             ],
             [
              0.8888888888888888,
              "#fdca26"
             ],
             [
              1,
              "#f0f921"
             ]
            ],
            "type": "heatmapgl"
           }
          ],
          "histogram": [
           {
            "marker": {
             "pattern": {
              "fillmode": "overlay",
              "size": 10,
              "solidity": 0.2
             }
            },
            "type": "histogram"
           }
          ],
          "histogram2d": [
           {
            "colorbar": {
             "outlinewidth": 0,
             "ticks": ""
            },
            "colorscale": [
             [
              0,
              "#0d0887"
             ],
             [
              0.1111111111111111,
              "#46039f"
             ],
             [
              0.2222222222222222,
              "#7201a8"
             ],
             [
              0.3333333333333333,
              "#9c179e"
             ],
             [
              0.4444444444444444,
              "#bd3786"
             ],
             [
              0.5555555555555556,
              "#d8576b"
             ],
             [
              0.6666666666666666,
              "#ed7953"
             ],
             [
              0.7777777777777778,
              "#fb9f3a"
             ],
             [
              0.8888888888888888,
              "#fdca26"
             ],
             [
              1,
              "#f0f921"
             ]
            ],
            "type": "histogram2d"
           }
          ],
          "histogram2dcontour": [
           {
            "colorbar": {
             "outlinewidth": 0,
             "ticks": ""
            },
            "colorscale": [
             [
              0,
              "#0d0887"
             ],
             [
              0.1111111111111111,
              "#46039f"
             ],
             [
              0.2222222222222222,
              "#7201a8"
             ],
             [
              0.3333333333333333,
              "#9c179e"
             ],
             [
              0.4444444444444444,
              "#bd3786"
             ],
             [
              0.5555555555555556,
              "#d8576b"
             ],
             [
              0.6666666666666666,
              "#ed7953"
             ],
             [
              0.7777777777777778,
              "#fb9f3a"
             ],
             [
              0.8888888888888888,
              "#fdca26"
             ],
             [
              1,
              "#f0f921"
             ]
            ],
            "type": "histogram2dcontour"
           }
          ],
          "mesh3d": [
           {
            "colorbar": {
             "outlinewidth": 0,
             "ticks": ""
            },
            "type": "mesh3d"
           }
          ],
          "parcoords": [
           {
            "line": {
             "colorbar": {
              "outlinewidth": 0,
              "ticks": ""
             }
            },
            "type": "parcoords"
           }
          ],
          "pie": [
           {
            "automargin": true,
            "type": "pie"
           }
          ],
          "scatter": [
           {
            "fillpattern": {
             "fillmode": "overlay",
             "size": 10,
             "solidity": 0.2
            },
            "type": "scatter"
           }
          ],
          "scatter3d": [
           {
            "line": {
             "colorbar": {
              "outlinewidth": 0,
              "ticks": ""
             }
            },
            "marker": {
             "colorbar": {
              "outlinewidth": 0,
              "ticks": ""
             }
            },
            "type": "scatter3d"
           }
          ],
          "scattercarpet": [
           {
            "marker": {
             "colorbar": {
              "outlinewidth": 0,
              "ticks": ""
             }
            },
            "type": "scattercarpet"
           }
          ],
          "scattergeo": [
           {
            "marker": {
             "colorbar": {
              "outlinewidth": 0,
              "ticks": ""
             }
            },
            "type": "scattergeo"
           }
          ],
          "scattergl": [
           {
            "marker": {
             "colorbar": {
              "outlinewidth": 0,
              "ticks": ""
             }
            },
            "type": "scattergl"
           }
          ],
          "scattermapbox": [
           {
            "marker": {
             "colorbar": {
              "outlinewidth": 0,
              "ticks": ""
             }
            },
            "type": "scattermapbox"
           }
          ],
          "scatterpolar": [
           {
            "marker": {
             "colorbar": {
              "outlinewidth": 0,
              "ticks": ""
             }
            },
            "type": "scatterpolar"
           }
          ],
          "scatterpolargl": [
           {
            "marker": {
             "colorbar": {
              "outlinewidth": 0,
              "ticks": ""
             }
            },
            "type": "scatterpolargl"
           }
          ],
          "scatterternary": [
           {
            "marker": {
             "colorbar": {
              "outlinewidth": 0,
              "ticks": ""
             }
            },
            "type": "scatterternary"
           }
          ],
          "surface": [
           {
            "colorbar": {
             "outlinewidth": 0,
             "ticks": ""
            },
            "colorscale": [
             [
              0,
              "#0d0887"
             ],
             [
              0.1111111111111111,
              "#46039f"
             ],
             [
              0.2222222222222222,
              "#7201a8"
             ],
             [
              0.3333333333333333,
              "#9c179e"
             ],
             [
              0.4444444444444444,
              "#bd3786"
             ],
             [
              0.5555555555555556,
              "#d8576b"
             ],
             [
              0.6666666666666666,
              "#ed7953"
             ],
             [
              0.7777777777777778,
              "#fb9f3a"
             ],
             [
              0.8888888888888888,
              "#fdca26"
             ],
             [
              1,
              "#f0f921"
             ]
            ],
            "type": "surface"
           }
          ],
          "table": [
           {
            "cells": {
             "fill": {
              "color": "#EBF0F8"
             },
             "line": {
              "color": "white"
             }
            },
            "header": {
             "fill": {
              "color": "#C8D4E3"
             },
             "line": {
              "color": "white"
             }
            },
            "type": "table"
           }
          ]
         },
         "layout": {
          "annotationdefaults": {
           "arrowcolor": "#2a3f5f",
           "arrowhead": 0,
           "arrowwidth": 1
          },
          "autotypenumbers": "strict",
          "coloraxis": {
           "colorbar": {
            "outlinewidth": 0,
            "ticks": ""
           }
          },
          "colorscale": {
           "diverging": [
            [
             0,
             "#8e0152"
            ],
            [
             0.1,
             "#c51b7d"
            ],
            [
             0.2,
             "#de77ae"
            ],
            [
             0.3,
             "#f1b6da"
            ],
            [
             0.4,
             "#fde0ef"
            ],
            [
             0.5,
             "#f7f7f7"
            ],
            [
             0.6,
             "#e6f5d0"
            ],
            [
             0.7,
             "#b8e186"
            ],
            [
             0.8,
             "#7fbc41"
            ],
            [
             0.9,
             "#4d9221"
            ],
            [
             1,
             "#276419"
            ]
           ],
           "sequential": [
            [
             0,
             "#0d0887"
            ],
            [
             0.1111111111111111,
             "#46039f"
            ],
            [
             0.2222222222222222,
             "#7201a8"
            ],
            [
             0.3333333333333333,
             "#9c179e"
            ],
            [
             0.4444444444444444,
             "#bd3786"
            ],
            [
             0.5555555555555556,
             "#d8576b"
            ],
            [
             0.6666666666666666,
             "#ed7953"
            ],
            [
             0.7777777777777778,
             "#fb9f3a"
            ],
            [
             0.8888888888888888,
             "#fdca26"
            ],
            [
             1,
             "#f0f921"
            ]
           ],
           "sequentialminus": [
            [
             0,
             "#0d0887"
            ],
            [
             0.1111111111111111,
             "#46039f"
            ],
            [
             0.2222222222222222,
             "#7201a8"
            ],
            [
             0.3333333333333333,
             "#9c179e"
            ],
            [
             0.4444444444444444,
             "#bd3786"
            ],
            [
             0.5555555555555556,
             "#d8576b"
            ],
            [
             0.6666666666666666,
             "#ed7953"
            ],
            [
             0.7777777777777778,
             "#fb9f3a"
            ],
            [
             0.8888888888888888,
             "#fdca26"
            ],
            [
             1,
             "#f0f921"
            ]
           ]
          },
          "colorway": [
           "#636efa",
           "#EF553B",
           "#00cc96",
           "#ab63fa",
           "#FFA15A",
           "#19d3f3",
           "#FF6692",
           "#B6E880",
           "#FF97FF",
           "#FECB52"
          ],
          "font": {
           "color": "#2a3f5f"
          },
          "geo": {
           "bgcolor": "white",
           "lakecolor": "white",
           "landcolor": "#E5ECF6",
           "showlakes": true,
           "showland": true,
           "subunitcolor": "white"
          },
          "hoverlabel": {
           "align": "left"
          },
          "hovermode": "closest",
          "mapbox": {
           "style": "light"
          },
          "paper_bgcolor": "white",
          "plot_bgcolor": "#E5ECF6",
          "polar": {
           "angularaxis": {
            "gridcolor": "white",
            "linecolor": "white",
            "ticks": ""
           },
           "bgcolor": "#E5ECF6",
           "radialaxis": {
            "gridcolor": "white",
            "linecolor": "white",
            "ticks": ""
           }
          },
          "scene": {
           "xaxis": {
            "backgroundcolor": "#E5ECF6",
            "gridcolor": "white",
            "gridwidth": 2,
            "linecolor": "white",
            "showbackground": true,
            "ticks": "",
            "zerolinecolor": "white"
           },
           "yaxis": {
            "backgroundcolor": "#E5ECF6",
            "gridcolor": "white",
            "gridwidth": 2,
            "linecolor": "white",
            "showbackground": true,
            "ticks": "",
            "zerolinecolor": "white"
           },
           "zaxis": {
            "backgroundcolor": "#E5ECF6",
            "gridcolor": "white",
            "gridwidth": 2,
            "linecolor": "white",
            "showbackground": true,
            "ticks": "",
            "zerolinecolor": "white"
           }
          },
          "shapedefaults": {
           "line": {
            "color": "#2a3f5f"
           }
          },
          "ternary": {
           "aaxis": {
            "gridcolor": "white",
            "linecolor": "white",
            "ticks": ""
           },
           "baxis": {
            "gridcolor": "white",
            "linecolor": "white",
            "ticks": ""
           },
           "bgcolor": "#E5ECF6",
           "caxis": {
            "gridcolor": "white",
            "linecolor": "white",
            "ticks": ""
           }
          },
          "title": {
           "x": 0.05
          },
          "xaxis": {
           "automargin": true,
           "gridcolor": "white",
           "linecolor": "white",
           "ticks": "",
           "title": {
            "standoff": 15
           },
           "zerolinecolor": "white",
           "zerolinewidth": 2
          },
          "yaxis": {
           "automargin": true,
           "gridcolor": "white",
           "linecolor": "white",
           "ticks": "",
           "title": {
            "standoff": 15
           },
           "zerolinecolor": "white",
           "zerolinewidth": 2
          }
         }
        },
        "xaxis": {
         "anchor": "y",
         "domain": [
          0,
          1
         ],
         "title": {
          "text": "Rank"
         }
        },
        "yaxis": {
         "anchor": "x",
         "domain": [
          0,
          1
         ],
         "title": {
          "text": "% Renewable"
         }
        }
       }
      },
      "text/html": [
       "<div>                            <div id=\"7e02bccf-cb84-4f70-b500-84a069dc9f63\" class=\"plotly-graph-div\" style=\"height:525px; width:100%;\"></div>            <script type=\"text/javascript\">                require([\"plotly\"], function(Plotly) {                    window.PLOTLYENV=window.PLOTLYENV || {};                                    if (document.getElementById(\"7e02bccf-cb84-4f70-b500-84a069dc9f63\")) {                    Plotly.newPlot(                        \"7e02bccf-cb84-4f70-b500-84a069dc9f63\",                        [{\"hovertemplate\":\"<b>%{hovertext}</b><br><br>Continentals=Asia<br>Rank=%{x}<br>% Renewable=%{y}<br>size=%{marker.size}<br>Country Name=%{text}<extra></extra>\",\"hovertext\":[\"China\",\"Japan\",\"India\",\"South Korea\"],\"legendgroup\":\"Asia\",\"marker\":{\"color\":\"red\",\"size\":[5278.799364252767,3401.737885884582,1420.3236713754359,759.948246185466],\"sizemode\":\"area\",\"sizeref\":24.82285991745,\"symbol\":\"circle\"},\"mode\":\"markers+text\",\"name\":\"Asia\",\"orientation\":\"v\",\"showlegend\":true,\"text\":[\"China\",\"Japan\",\"India\",\"South Korea\"],\"x\":[1,3,8,10],\"xaxis\":\"x\",\"y\":[19.75491,10.23282,14.96908,2.279353],\"yaxis\":\"y\",\"type\":\"scatter\"},{\"hovertemplate\":\"<b>%{hovertext}</b><br><br>Continentals=North America<br>Rank=%{x}<br>% Renewable=%{y}<br>size=%{marker.size}<br>Country Name=%{text}<extra></extra>\",\"hovertext\":[\"United States\",\"Canada\"],\"legendgroup\":\"North America\",\"marker\":{\"color\":\"blue\",\"size\":[9929.14396698,1075.565258765286],\"sizemode\":\"area\",\"sizeref\":24.82285991745,\"symbol\":\"circle\"},\"mode\":\"markers+text\",\"name\":\"North America\",\"orientation\":\"v\",\"showlegend\":true,\"text\":[\"United States\",\"Canada\"],\"x\":[2,6],\"xaxis\":\"x\",\"y\":[11.57098,61.94543],\"yaxis\":\"y\",\"type\":\"scatter\"},{\"hovertemplate\":\"<b>%{hovertext}</b><br><br>Continentals=Europe<br>Rank=%{x}<br>% Renewable=%{y}<br>size=%{marker.size}<br>Country Name=%{text}<extra></extra>\",\"hovertext\":[\"United Kingdom\",\"Russian Federation\",\"Germany\",\"France\",\"Italy\",\"Spain\"],\"legendgroup\":\"Europe\",\"marker\":{\"color\":\"green\",\"size\":[1599.800037886278,969.6893148202621,2211.333544370862,1656.711258278148,1229.589362145696,851.892715231788],\"sizemode\":\"area\",\"sizeref\":24.82285991745,\"symbol\":\"circle\"},\"mode\":\"markers+text\",\"name\":\"Europe\",\"orientation\":\"v\",\"showlegend\":true,\"text\":[\"United Kingdom\",\"Russian Federation\",\"Germany\",\"France\",\"Italy\",\"Spain\"],\"x\":[4,5,7,9,11,12],\"xaxis\":\"x\",\"y\":[10.60047,17.28868,17.90153,17.02028,33.66723,37.96859],\"yaxis\":\"y\",\"type\":\"scatter\"},{\"hovertemplate\":\"<b>%{hovertext}</b><br><br>Continentals=Australia<br>Rank=%{x}<br>% Renewable=%{y}<br>size=%{marker.size}<br>Country Name=%{text}<extra></extra>\",\"hovertext\":[\"Australia\"],\"legendgroup\":\"Australia\",\"marker\":{\"color\":\"yellow\",\"size\":[780.7506182673959],\"sizemode\":\"area\",\"sizeref\":24.82285991745,\"symbol\":\"circle\"},\"mode\":\"markers+text\",\"name\":\"Australia\",\"orientation\":\"v\",\"showlegend\":true,\"text\":[\"Australia\"],\"x\":[14],\"xaxis\":\"x\",\"y\":[11.81081],\"yaxis\":\"y\",\"type\":\"scatter\"},{\"hovertemplate\":\"<b>%{hovertext}</b><br><br>Continentals=South America<br>Rank=%{x}<br>% Renewable=%{y}<br>size=%{marker.size}<br>Country Name=%{text}<extra></extra>\",\"hovertext\":[\"Brazil\"],\"legendgroup\":\"South America\",\"marker\":{\"color\":\"orange\",\"size\":[1391.654034296478],\"sizemode\":\"area\",\"sizeref\":24.82285991745,\"symbol\":\"circle\"},\"mode\":\"markers+text\",\"name\":\"South America\",\"orientation\":\"v\",\"showlegend\":true,\"text\":[\"Brazil\"],\"x\":[15],\"xaxis\":\"x\",\"y\":[69.64803],\"yaxis\":\"y\",\"type\":\"scatter\"}],                        {\"template\":{\"data\":{\"histogram2dcontour\":[{\"type\":\"histogram2dcontour\",\"colorbar\":{\"outlinewidth\":0,\"ticks\":\"\"},\"colorscale\":[[0.0,\"#0d0887\"],[0.1111111111111111,\"#46039f\"],[0.2222222222222222,\"#7201a8\"],[0.3333333333333333,\"#9c179e\"],[0.4444444444444444,\"#bd3786\"],[0.5555555555555556,\"#d8576b\"],[0.6666666666666666,\"#ed7953\"],[0.7777777777777778,\"#fb9f3a\"],[0.8888888888888888,\"#fdca26\"],[1.0,\"#f0f921\"]]}],\"choropleth\":[{\"type\":\"choropleth\",\"colorbar\":{\"outlinewidth\":0,\"ticks\":\"\"}}],\"histogram2d\":[{\"type\":\"histogram2d\",\"colorbar\":{\"outlinewidth\":0,\"ticks\":\"\"},\"colorscale\":[[0.0,\"#0d0887\"],[0.1111111111111111,\"#46039f\"],[0.2222222222222222,\"#7201a8\"],[0.3333333333333333,\"#9c179e\"],[0.4444444444444444,\"#bd3786\"],[0.5555555555555556,\"#d8576b\"],[0.6666666666666666,\"#ed7953\"],[0.7777777777777778,\"#fb9f3a\"],[0.8888888888888888,\"#fdca26\"],[1.0,\"#f0f921\"]]}],\"heatmap\":[{\"type\":\"heatmap\",\"colorbar\":{\"outlinewidth\":0,\"ticks\":\"\"},\"colorscale\":[[0.0,\"#0d0887\"],[0.1111111111111111,\"#46039f\"],[0.2222222222222222,\"#7201a8\"],[0.3333333333333333,\"#9c179e\"],[0.4444444444444444,\"#bd3786\"],[0.5555555555555556,\"#d8576b\"],[0.6666666666666666,\"#ed7953\"],[0.7777777777777778,\"#fb9f3a\"],[0.8888888888888888,\"#fdca26\"],[1.0,\"#f0f921\"]]}],\"heatmapgl\":[{\"type\":\"heatmapgl\",\"colorbar\":{\"outlinewidth\":0,\"ticks\":\"\"},\"colorscale\":[[0.0,\"#0d0887\"],[0.1111111111111111,\"#46039f\"],[0.2222222222222222,\"#7201a8\"],[0.3333333333333333,\"#9c179e\"],[0.4444444444444444,\"#bd3786\"],[0.5555555555555556,\"#d8576b\"],[0.6666666666666666,\"#ed7953\"],[0.7777777777777778,\"#fb9f3a\"],[0.8888888888888888,\"#fdca26\"],[1.0,\"#f0f921\"]]}],\"contourcarpet\":[{\"type\":\"contourcarpet\",\"colorbar\":{\"outlinewidth\":0,\"ticks\":\"\"}}],\"contour\":[{\"type\":\"contour\",\"colorbar\":{\"outlinewidth\":0,\"ticks\":\"\"},\"colorscale\":[[0.0,\"#0d0887\"],[0.1111111111111111,\"#46039f\"],[0.2222222222222222,\"#7201a8\"],[0.3333333333333333,\"#9c179e\"],[0.4444444444444444,\"#bd3786\"],[0.5555555555555556,\"#d8576b\"],[0.6666666666666666,\"#ed7953\"],[0.7777777777777778,\"#fb9f3a\"],[0.8888888888888888,\"#fdca26\"],[1.0,\"#f0f921\"]]}],\"surface\":[{\"type\":\"surface\",\"colorbar\":{\"outlinewidth\":0,\"ticks\":\"\"},\"colorscale\":[[0.0,\"#0d0887\"],[0.1111111111111111,\"#46039f\"],[0.2222222222222222,\"#7201a8\"],[0.3333333333333333,\"#9c179e\"],[0.4444444444444444,\"#bd3786\"],[0.5555555555555556,\"#d8576b\"],[0.6666666666666666,\"#ed7953\"],[0.7777777777777778,\"#fb9f3a\"],[0.8888888888888888,\"#fdca26\"],[1.0,\"#f0f921\"]]}],\"mesh3d\":[{\"type\":\"mesh3d\",\"colorbar\":{\"outlinewidth\":0,\"ticks\":\"\"}}],\"scatter\":[{\"fillpattern\":{\"fillmode\":\"overlay\",\"size\":10,\"solidity\":0.2},\"type\":\"scatter\"}],\"parcoords\":[{\"type\":\"parcoords\",\"line\":{\"colorbar\":{\"outlinewidth\":0,\"ticks\":\"\"}}}],\"scatterpolargl\":[{\"type\":\"scatterpolargl\",\"marker\":{\"colorbar\":{\"outlinewidth\":0,\"ticks\":\"\"}}}],\"bar\":[{\"error_x\":{\"color\":\"#2a3f5f\"},\"error_y\":{\"color\":\"#2a3f5f\"},\"marker\":{\"line\":{\"color\":\"#E5ECF6\",\"width\":0.5},\"pattern\":{\"fillmode\":\"overlay\",\"size\":10,\"solidity\":0.2}},\"type\":\"bar\"}],\"scattergeo\":[{\"type\":\"scattergeo\",\"marker\":{\"colorbar\":{\"outlinewidth\":0,\"ticks\":\"\"}}}],\"scatterpolar\":[{\"type\":\"scatterpolar\",\"marker\":{\"colorbar\":{\"outlinewidth\":0,\"ticks\":\"\"}}}],\"histogram\":[{\"marker\":{\"pattern\":{\"fillmode\":\"overlay\",\"size\":10,\"solidity\":0.2}},\"type\":\"histogram\"}],\"scattergl\":[{\"type\":\"scattergl\",\"marker\":{\"colorbar\":{\"outlinewidth\":0,\"ticks\":\"\"}}}],\"scatter3d\":[{\"type\":\"scatter3d\",\"line\":{\"colorbar\":{\"outlinewidth\":0,\"ticks\":\"\"}},\"marker\":{\"colorbar\":{\"outlinewidth\":0,\"ticks\":\"\"}}}],\"scattermapbox\":[{\"type\":\"scattermapbox\",\"marker\":{\"colorbar\":{\"outlinewidth\":0,\"ticks\":\"\"}}}],\"scatterternary\":[{\"type\":\"scatterternary\",\"marker\":{\"colorbar\":{\"outlinewidth\":0,\"ticks\":\"\"}}}],\"scattercarpet\":[{\"type\":\"scattercarpet\",\"marker\":{\"colorbar\":{\"outlinewidth\":0,\"ticks\":\"\"}}}],\"carpet\":[{\"aaxis\":{\"endlinecolor\":\"#2a3f5f\",\"gridcolor\":\"white\",\"linecolor\":\"white\",\"minorgridcolor\":\"white\",\"startlinecolor\":\"#2a3f5f\"},\"baxis\":{\"endlinecolor\":\"#2a3f5f\",\"gridcolor\":\"white\",\"linecolor\":\"white\",\"minorgridcolor\":\"white\",\"startlinecolor\":\"#2a3f5f\"},\"type\":\"carpet\"}],\"table\":[{\"cells\":{\"fill\":{\"color\":\"#EBF0F8\"},\"line\":{\"color\":\"white\"}},\"header\":{\"fill\":{\"color\":\"#C8D4E3\"},\"line\":{\"color\":\"white\"}},\"type\":\"table\"}],\"barpolar\":[{\"marker\":{\"line\":{\"color\":\"#E5ECF6\",\"width\":0.5},\"pattern\":{\"fillmode\":\"overlay\",\"size\":10,\"solidity\":0.2}},\"type\":\"barpolar\"}],\"pie\":[{\"automargin\":true,\"type\":\"pie\"}]},\"layout\":{\"autotypenumbers\":\"strict\",\"colorway\":[\"#636efa\",\"#EF553B\",\"#00cc96\",\"#ab63fa\",\"#FFA15A\",\"#19d3f3\",\"#FF6692\",\"#B6E880\",\"#FF97FF\",\"#FECB52\"],\"font\":{\"color\":\"#2a3f5f\"},\"hovermode\":\"closest\",\"hoverlabel\":{\"align\":\"left\"},\"paper_bgcolor\":\"white\",\"plot_bgcolor\":\"#E5ECF6\",\"polar\":{\"bgcolor\":\"#E5ECF6\",\"angularaxis\":{\"gridcolor\":\"white\",\"linecolor\":\"white\",\"ticks\":\"\"},\"radialaxis\":{\"gridcolor\":\"white\",\"linecolor\":\"white\",\"ticks\":\"\"}},\"ternary\":{\"bgcolor\":\"#E5ECF6\",\"aaxis\":{\"gridcolor\":\"white\",\"linecolor\":\"white\",\"ticks\":\"\"},\"baxis\":{\"gridcolor\":\"white\",\"linecolor\":\"white\",\"ticks\":\"\"},\"caxis\":{\"gridcolor\":\"white\",\"linecolor\":\"white\",\"ticks\":\"\"}},\"coloraxis\":{\"colorbar\":{\"outlinewidth\":0,\"ticks\":\"\"}},\"colorscale\":{\"sequential\":[[0.0,\"#0d0887\"],[0.1111111111111111,\"#46039f\"],[0.2222222222222222,\"#7201a8\"],[0.3333333333333333,\"#9c179e\"],[0.4444444444444444,\"#bd3786\"],[0.5555555555555556,\"#d8576b\"],[0.6666666666666666,\"#ed7953\"],[0.7777777777777778,\"#fb9f3a\"],[0.8888888888888888,\"#fdca26\"],[1.0,\"#f0f921\"]],\"sequentialminus\":[[0.0,\"#0d0887\"],[0.1111111111111111,\"#46039f\"],[0.2222222222222222,\"#7201a8\"],[0.3333333333333333,\"#9c179e\"],[0.4444444444444444,\"#bd3786\"],[0.5555555555555556,\"#d8576b\"],[0.6666666666666666,\"#ed7953\"],[0.7777777777777778,\"#fb9f3a\"],[0.8888888888888888,\"#fdca26\"],[1.0,\"#f0f921\"]],\"diverging\":[[0,\"#8e0152\"],[0.1,\"#c51b7d\"],[0.2,\"#de77ae\"],[0.3,\"#f1b6da\"],[0.4,\"#fde0ef\"],[0.5,\"#f7f7f7\"],[0.6,\"#e6f5d0\"],[0.7,\"#b8e186\"],[0.8,\"#7fbc41\"],[0.9,\"#4d9221\"],[1,\"#276419\"]]},\"xaxis\":{\"gridcolor\":\"white\",\"linecolor\":\"white\",\"ticks\":\"\",\"title\":{\"standoff\":15},\"zerolinecolor\":\"white\",\"automargin\":true,\"zerolinewidth\":2},\"yaxis\":{\"gridcolor\":\"white\",\"linecolor\":\"white\",\"ticks\":\"\",\"title\":{\"standoff\":15},\"zerolinecolor\":\"white\",\"automargin\":true,\"zerolinewidth\":2},\"scene\":{\"xaxis\":{\"backgroundcolor\":\"#E5ECF6\",\"gridcolor\":\"white\",\"linecolor\":\"white\",\"showbackground\":true,\"ticks\":\"\",\"zerolinecolor\":\"white\",\"gridwidth\":2},\"yaxis\":{\"backgroundcolor\":\"#E5ECF6\",\"gridcolor\":\"white\",\"linecolor\":\"white\",\"showbackground\":true,\"ticks\":\"\",\"zerolinecolor\":\"white\",\"gridwidth\":2},\"zaxis\":{\"backgroundcolor\":\"#E5ECF6\",\"gridcolor\":\"white\",\"linecolor\":\"white\",\"showbackground\":true,\"ticks\":\"\",\"zerolinecolor\":\"white\",\"gridwidth\":2}},\"shapedefaults\":{\"line\":{\"color\":\"#2a3f5f\"}},\"annotationdefaults\":{\"arrowcolor\":\"#2a3f5f\",\"arrowhead\":0,\"arrowwidth\":1},\"geo\":{\"bgcolor\":\"white\",\"landcolor\":\"#E5ECF6\",\"subunitcolor\":\"white\",\"showland\":true,\"showlakes\":true,\"lakecolor\":\"white\"},\"title\":{\"x\":0.05},\"mapbox\":{\"style\":\"light\"}}},\"xaxis\":{\"anchor\":\"y\",\"domain\":[0.0,1.0],\"title\":{\"text\":\"Rank\"}},\"yaxis\":{\"anchor\":\"x\",\"domain\":[0.0,1.0],\"title\":{\"text\":\"% Renewable\"}},\"legend\":{\"title\":{\"text\":\"Continentals\"},\"tracegroupgap\":0,\"itemsizing\":\"constant\"},\"margin\":{\"t\":60}},                        {\"responsive\": true}                    ).then(function(){\n",
       "                            \n",
       "var gd = document.getElementById('7e02bccf-cb84-4f70-b500-84a069dc9f63');\n",
       "var x = new MutationObserver(function (mutations, observer) {{\n",
       "        var display = window.getComputedStyle(gd).display;\n",
       "        if (!display || display === 'none') {{\n",
       "            console.log([gd, 'removed!']);\n",
       "            Plotly.purge(gd);\n",
       "            observer.disconnect();\n",
       "        }}\n",
       "}});\n",
       "\n",
       "// Listen for the removal of the full notebook cells\n",
       "var notebookContainer = gd.closest('#notebook-container');\n",
       "if (notebookContainer) {{\n",
       "    x.observe(notebookContainer, {childList: true});\n",
       "}}\n",
       "\n",
       "// Listen for the clearing of the current output cell\n",
       "var outputEl = gd.closest('.output');\n",
       "if (outputEl) {{\n",
       "    x.observe(outputEl, {childList: true});\n",
       "}}\n",
       "\n",
       "                        })                };                });            </script>        </div>"
      ]
     },
     "metadata": {},
     "output_type": "display_data"
    }
   ],
   "source": [
    "px.scatter(result,x = 'Rank', y='% Renewable',hover_name='Country Name', size=6*result['2015']/10**10, \n",
    "                 text='Country Name',color=\"Continentals\",\n",
    "color_discrete_sequence=[\"red\",\"blue\", \"green\", \"yellow\", \"orange\"])\n",
    "\n",
    "\n"
   ]
  },
  {
   "cell_type": "code",
   "execution_count": null,
   "id": "5955c966",
   "metadata": {},
   "outputs": [],
   "source": []
  }
 ],
 "metadata": {
  "kernelspec": {
   "display_name": "Python 3 (ipykernel)",
   "language": "python",
   "name": "python3"
  },
  "language_info": {
   "codemirror_mode": {
    "name": "ipython",
    "version": 3
   },
   "file_extension": ".py",
   "mimetype": "text/x-python",
   "name": "python",
   "nbconvert_exporter": "python",
   "pygments_lexer": "ipython3",
   "version": "3.10.2"
  }
 },
 "nbformat": 4,
 "nbformat_minor": 5
}
